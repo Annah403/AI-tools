{
 "cells": [
  {
   "cell_type": "code",
   "execution_count": 3,
   "id": "495ec558",
   "metadata": {},
   "outputs": [],
   "source": [
    "import spacy\n",
    "from textblob import TextBlob\n",
    "\n",
    "# Load spaCy English model\n",
    "nlp = spacy.load(\"en_core_web_sm\")\n"
   ]
  },
  {
   "cell_type": "code",
   "execution_count": 4,
   "id": "524a703e",
   "metadata": {},
   "outputs": [],
   "source": [
    "reviews = [\n",
    "    \"I love my new Apple iPhone 15, the camera quality is amazing!\",\n",
    "    \"The Samsung Galaxy S22 battery drains so fast, I’m really disappointed.\",\n",
    "    \"I bought Sony headphones and the sound is crystal clear.\",\n",
    "    \"This Dell laptop is terrible, it freezes all the time.\",\n",
    "    \"Absolutely love the Nike running shoes, super comfortable!\"\n",
    "]\n"
   ]
  },
  {
   "cell_type": "code",
   "execution_count": 5,
   "id": "3ed64280",
   "metadata": {},
   "outputs": [
    {
     "name": "stdout",
     "output_type": "stream",
     "text": [
      "📝 Review: I love my new Apple iPhone 15, the camera quality is amazing!\n",
      "🔍 Extracted Entities: [('Apple', 'ORG'), ('iPhone 15', 'PRODUCT')]\n",
      "💬 Sentiment: Positive 😀\n",
      "\n",
      "📝 Review: The Samsung Galaxy S22 battery drains so fast, I’m really disappointed.\n",
      "🔍 Extracted Entities: []\n",
      "💬 Sentiment: Negative 😞\n",
      "\n",
      "📝 Review: I bought Sony headphones and the sound is crystal clear.\n",
      "🔍 Extracted Entities: [('Sony', 'ORG')]\n",
      "💬 Sentiment: Positive 😀\n",
      "\n",
      "📝 Review: This Dell laptop is terrible, it freezes all the time.\n",
      "🔍 Extracted Entities: []\n",
      "💬 Sentiment: Negative 😞\n",
      "\n",
      "📝 Review: Absolutely love the Nike running shoes, super comfortable!\n",
      "🔍 Extracted Entities: [('Nike', 'ORG')]\n",
      "💬 Sentiment: Positive 😀\n",
      "\n"
     ]
    }
   ],
   "source": [
    "for review in reviews:\n",
    "    # Apply spaCy NLP pipeline\n",
    "    doc = nlp(review)\n",
    "    \n",
    "    # Extract named entities\n",
    "    entities = [(ent.text, ent.label_) for ent in doc.ents]\n",
    "    \n",
    "    # Perform sentiment analysis using TextBlob\n",
    "    sentiment = TextBlob(review).sentiment.polarity\n",
    "    \n",
    "    # Interpret polarity (-1 = negative, 0 = neutral, +1 = positive)\n",
    "    if sentiment > 0:\n",
    "        sentiment_label = \"Positive 😀\"\n",
    "    elif sentiment < 0:\n",
    "        sentiment_label = \"Negative 😞\"\n",
    "    else:\n",
    "        sentiment_label = \"Neutral 😐\"\n",
    "    \n",
    "    # Print results\n",
    "    print(f\"📝 Review: {review}\")\n",
    "    print(f\"🔍 Extracted Entities: {entities}\")\n",
    "    print(f\"💬 Sentiment: {sentiment_label}\\n\")\n"
   ]
  }
 ],
 "metadata": {
  "kernelspec": {
   "display_name": "Python 3",
   "language": "python",
   "name": "python3"
  },
  "language_info": {
   "codemirror_mode": {
    "name": "ipython",
    "version": 3
   },
   "file_extension": ".py",
   "mimetype": "text/x-python",
   "name": "python",
   "nbconvert_exporter": "python",
   "pygments_lexer": "ipython3",
   "version": "3.13.0"
  }
 },
 "nbformat": 4,
 "nbformat_minor": 5
}
